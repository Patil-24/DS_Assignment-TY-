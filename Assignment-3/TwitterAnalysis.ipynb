{
 "cells": [
  {
   "cell_type": "code",
   "execution_count": 1,
   "id": "cba47487",
   "metadata": {},
   "outputs": [
    {
     "name": "stdout",
     "output_type": "stream",
     "text": [
      "Requirement already satisfied: tweepy in c:\\users\\iranna patil\\anaconda3\\lib\\site-packages (4.10.0)\n",
      "Requirement already satisfied: requests-oauthlib<2,>=1.2.0 in c:\\users\\iranna patil\\anaconda3\\lib\\site-packages (from tweepy) (1.3.1)\n",
      "Requirement already satisfied: requests<3,>=2.27.0 in c:\\users\\iranna patil\\anaconda3\\lib\\site-packages (from tweepy) (2.27.1)\n",
      "Requirement already satisfied: oauthlib<4,>=3.2.0 in c:\\users\\iranna patil\\anaconda3\\lib\\site-packages (from tweepy) (3.2.0)\n",
      "Requirement already satisfied: certifi>=2017.4.17 in c:\\users\\iranna patil\\anaconda3\\lib\\site-packages (from requests<3,>=2.27.0->tweepy) (2021.10.8)\n",
      "Requirement already satisfied: idna<4,>=2.5 in c:\\users\\iranna patil\\anaconda3\\lib\\site-packages (from requests<3,>=2.27.0->tweepy) (3.2)\n",
      "Requirement already satisfied: urllib3<1.27,>=1.21.1 in c:\\users\\iranna patil\\anaconda3\\lib\\site-packages (from requests<3,>=2.27.0->tweepy) (1.26.7)\n",
      "Requirement already satisfied: charset-normalizer~=2.0.0 in c:\\users\\iranna patil\\anaconda3\\lib\\site-packages (from requests<3,>=2.27.0->tweepy) (2.0.4)\n"
     ]
    }
   ],
   "source": [
    "!pip install tweepy"
   ]
  },
  {
   "cell_type": "code",
   "execution_count": 2,
   "id": "6878bb41",
   "metadata": {},
   "outputs": [
    {
     "name": "stdout",
     "output_type": "stream",
     "text": [
      "Requirement already satisfied: pandas in c:\\users\\iranna patil\\anaconda3\\lib\\site-packages (1.3.4)\n",
      "Requirement already satisfied: numpy>=1.17.3 in c:\\users\\iranna patil\\anaconda3\\lib\\site-packages (from pandas) (1.20.3)\n",
      "Requirement already satisfied: pytz>=2017.3 in c:\\users\\iranna patil\\anaconda3\\lib\\site-packages (from pandas) (2021.3)\n",
      "Requirement already satisfied: python-dateutil>=2.7.3 in c:\\users\\iranna patil\\anaconda3\\lib\\site-packages (from pandas) (2.8.2)\n",
      "Requirement already satisfied: six>=1.5 in c:\\users\\iranna patil\\anaconda3\\lib\\site-packages (from python-dateutil>=2.7.3->pandas) (1.16.0)\n"
     ]
    }
   ],
   "source": [
    "!pip install pandas\n"
   ]
  },
  {
   "cell_type": "code",
   "execution_count": 3,
   "id": "82a236b6",
   "metadata": {},
   "outputs": [
    {
     "name": "stdout",
     "output_type": "stream",
     "text": [
      "Requirement already satisfied: numpy in c:\\users\\iranna patil\\anaconda3\\lib\\site-packages (1.20.3)\n"
     ]
    }
   ],
   "source": [
    "!pip install numpy\n"
   ]
  },
  {
   "cell_type": "code",
   "execution_count": 4,
   "id": "ac8f89d0",
   "metadata": {},
   "outputs": [
    {
     "name": "stdout",
     "output_type": "stream",
     "text": [
      "Requirement already satisfied: matplotlib in c:\\users\\iranna patil\\anaconda3\\lib\\site-packages (3.4.3)\n",
      "Requirement already satisfied: numpy>=1.16 in c:\\users\\iranna patil\\anaconda3\\lib\\site-packages (from matplotlib) (1.20.3)\n",
      "Requirement already satisfied: cycler>=0.10 in c:\\users\\iranna patil\\anaconda3\\lib\\site-packages (from matplotlib) (0.10.0)\n",
      "Requirement already satisfied: pyparsing>=2.2.1 in c:\\users\\iranna patil\\anaconda3\\lib\\site-packages (from matplotlib) (3.0.4)\n",
      "Requirement already satisfied: python-dateutil>=2.7 in c:\\users\\iranna patil\\anaconda3\\lib\\site-packages (from matplotlib) (2.8.2)\n",
      "Requirement already satisfied: kiwisolver>=1.0.1 in c:\\users\\iranna patil\\anaconda3\\lib\\site-packages (from matplotlib) (1.3.1)\n",
      "Requirement already satisfied: pillow>=6.2.0 in c:\\users\\iranna patil\\anaconda3\\lib\\site-packages (from matplotlib) (8.4.0)\n",
      "Requirement already satisfied: six in c:\\users\\iranna patil\\anaconda3\\lib\\site-packages (from cycler>=0.10->matplotlib) (1.16.0)\n"
     ]
    }
   ],
   "source": [
    "!pip install matplotlib\n"
   ]
  },
  {
   "cell_type": "code",
   "execution_count": 5,
   "id": "e177051e",
   "metadata": {},
   "outputs": [],
   "source": [
    "import tweepy as tw\n",
    "\n",
    "# Import numpy and pandas to work with dataframes\n",
    "import numpy as np\n",
    "import pandas as pd\n",
    "\n",
    "# Import seaborn and matplotlib for viz\n",
    "from matplotlib import pyplot as plt\n"
   ]
  },
  {
   "cell_type": "code",
   "execution_count": 6,
   "id": "fb6231ef",
   "metadata": {},
   "outputs": [],
   "source": [
    "auth = tw.OAuthHandler(\"jwc6IYlv3HEfIzcRhu4K7GUT1\", \"AWD0d3aRKt3HHfAPe3oV8xnq2MIvL1zFlWX0Sa0Xm1g6hmjdZX\")\n",
    "auth.set_access_token(\"1335153296365875201-KGvNr9iJNqjITaz0lBL2STQfnMhqnT\", \"hpUawKvoOgKcDNzZ1ToDFrs4wbBWoFJveOintgGzrUx7e\")\n",
    "\n",
    "\n",
    "api = tw.API(auth)"
   ]
  },
  {
   "cell_type": "code",
   "execution_count": 7,
   "id": "eb36d117",
   "metadata": {},
   "outputs": [
    {
     "name": "stdout",
     "output_type": "stream",
     "text": [
      "[{'Tweet': \"RT @DwayneFuhlhage: Of course my $0.99 Trump necktie was made in China, just like Ivanka's purses and clothing. #PresidentialDebate https:/…\", 'Timestamp': datetime.datetime(2022, 6, 5, 19, 32, 16, tzinfo=datetime.timezone.utc)}, {'Tweet': 'RT @WSjp_insight: Final(2nd)US🇺🇸#PresidentialDebate 10/22/2020 BelmontUniv #debate,#Debates2020 \\nhttps://t.co/IxTYG359i2\\nnewsmax MotherJone…', 'Timestamp': datetime.datetime(2022, 6, 5, 13, 56, 6, tzinfo=datetime.timezone.utc)}, {'Tweet': 'RT @WSjp_insight: 3rd US #PresidentialDebate articles https://t.co/64dClOHu2m BerkeleyISchool Center4Politics YouGovUS KelloggSchool cage_w…', 'Timestamp': datetime.datetime(2022, 6, 5, 13, 55, 55, tzinfo=datetime.timezone.utc)}, {'Tweet': 'RT @WSjp_insight: 1st US #PresidentialDebate 09/29/2020\\n🇺🇸#Debates2020 #TrumpBidenDebate\\nhttps://t.co/DfBnubTidB\\nPBS,NewsHour CBSNews NBCPo…', 'Timestamp': datetime.datetime(2022, 6, 5, 13, 47, 6, tzinfo=datetime.timezone.utc)}, {'Tweet': 'RT @WSjp_insight: 2nd US #PresidentialDebate articles https://t.co/3uiHbyyVnD WUSTL bpolitics TPM nprpolitics HuffPostPol thedailybeast the…', 'Timestamp': datetime.datetime(2022, 6, 5, 13, 46, 50, tzinfo=datetime.timezone.utc)}, {'Tweet': 'The 5th is presenting his credentials for the 5th time on 5th. What a coincidence,God is gonna make it… https://t.co/FmGNRM2htx', 'Timestamp': datetime.datetime(2022, 6, 5, 5, 52, 14, tzinfo=datetime.timezone.utc)}, {'Tweet': 'RT @whitney_stesher: Sisi tunajua president wetu, je wewe?\\n\\n#Baba\\n#PresidentialDebate \\n#BabaNaMama https://t.co/Zejyj9OH0X', 'Timestamp': datetime.datetime(2022, 6, 5, 2, 28, 16, tzinfo=datetime.timezone.utc)}, {'Tweet': 'RT @jaydiggsmusic: Jay Diggs with his new smash hit taking over the streets “Fly On You” (feat. @VP ) #mikepencefly #PresidentialDebate htt…', 'Timestamp': datetime.datetime(2022, 6, 5, 2, 4, 14, tzinfo=datetime.timezone.utc)}, {'Tweet': 'Who will you vote in August 2022\\n#presidentialdebate #Ruto #Raila #IEBC #Sugoi #Atwoli #Chebukati #Rigathi #Igathe #karua', 'Timestamp': datetime.datetime(2022, 6, 4, 20, 19, 47, tzinfo=datetime.timezone.utc)}, {'Tweet': 'RT @duncanHustlerNa: I Will Obviously RESPECT This Man, BORN In Kenya, Raised In Kenya, Married In Kenya, His Kids Schooled In Kenya Despit…', 'Timestamp': datetime.datetime(2022, 6, 4, 17, 57, 9, tzinfo=datetime.timezone.utc)}, {'Tweet': 'RT @duncanHustlerNa: I Will Obviously RESPECT This Man, BORN In Kenya, Raised In Kenya, Married In Kenya, His Kids Schooled In Kenya Despit…', 'Timestamp': datetime.datetime(2022, 6, 4, 17, 53, 15, tzinfo=datetime.timezone.utc)}, {'Tweet': 'RT @duncanHustlerNa: DP should not attend that evil presidential debate. The whole thing is skewed to favour Assmio. It’s not a mandatory t…', 'Timestamp': datetime.datetime(2022, 6, 4, 17, 51, 54, tzinfo=datetime.timezone.utc)}, {'Tweet': 'RT @duncanHustlerNa: I Will Obviously RESPECT This Man, BORN In Kenya, Raised In Kenya, Married In Kenya, His Kids Schooled In Kenya Despit…', 'Timestamp': datetime.datetime(2022, 6, 4, 17, 50, 13, tzinfo=datetime.timezone.utc)}, {'Tweet': 'These goons should be arrested, they were heavily armed. \\n\\n#PresidentialDebate #AzimioTv https://t.co/9rWbUCQBrb', 'Timestamp': datetime.datetime(2022, 6, 4, 17, 47, 51, tzinfo=datetime.timezone.utc)}, {'Tweet': 'DP should not attend that evil presidential debate. The whole thing is skewed to favour Assmio. It’s not a mandator… https://t.co/OHVgVZMZKE', 'Timestamp': datetime.datetime(2022, 6, 4, 17, 40, 45, tzinfo=datetime.timezone.utc)}, {'Tweet': 'RT @duncanHustlerNa: I Will Obviously RESPECT This Man, BORN In Kenya, Raised In Kenya, Married In Kenya, His Kids Schooled In Kenya Despit…', 'Timestamp': datetime.datetime(2022, 6, 4, 17, 37, 56, tzinfo=datetime.timezone.utc)}, {'Tweet': 'I Will Obviously RESPECT This Man, BORN In Kenya, Raised In Kenya, Married In Kenya, His Kids Schooled In Kenya Des… https://t.co/GGQcmGbxud', 'Timestamp': datetime.datetime(2022, 6, 4, 17, 37, 50, tzinfo=datetime.timezone.utc)}, {'Tweet': 'RT @stimake517: What is your opinion on this?\\n\\n#CHAGUARUTO #Ethereum #southB elsa majimbo #President #presidentialdebate https://t.co/WjieL…', 'Timestamp': datetime.datetime(2022, 6, 4, 17, 32, 25, tzinfo=datetime.timezone.utc)}, {'Tweet': 'Sisi tunajua president wetu, je wewe?\\n\\n#Baba\\n#PresidentialDebate \\n#BabaNaMama https://t.co/Zejyj9OH0X', 'Timestamp': datetime.datetime(2022, 6, 4, 17, 30, 1, tzinfo=datetime.timezone.utc)}, {'Tweet': 'What is your opinion on this?\\n\\n#CHAGUARUTO #Ethereum #southB elsa majimbo #President #presidentialdebate https://t.co/WjieLS7foa', 'Timestamp': datetime.datetime(2022, 6, 4, 17, 21, 3, tzinfo=datetime.timezone.utc)}, {'Tweet': 'If you are plying embakasi route (No. 33) and you left your specs in the city shuttle on 31st of May, kindly call m… https://t.co/UM9mPIzGvA', 'Timestamp': datetime.datetime(2022, 6, 4, 17, 17, 28, tzinfo=datetime.timezone.utc)}, {'Tweet': '#PresidentialDebate.....this is very inspiring to Kenyans... #KenyaKwanza https://t.co/DJBvF1x9IG', 'Timestamp': datetime.datetime(2022, 6, 4, 17, 7, 23, tzinfo=datetime.timezone.utc)}, {'Tweet': \"@OleItumbi I'm sitting here wondering when #PresidentialDebate became part of Kenya's electoral process.  Methink i… https://t.co/ImpjrlQJCD\", 'Timestamp': datetime.datetime(2022, 6, 4, 16, 55, 30, tzinfo=datetime.timezone.utc)}, {'Tweet': \"RT @WSjp_insight: 1st US #PresidentialDebate'16 excerpts.. https://t.co/IAxalj6Gxi @bencasselman @MelbInstUOM,@LaurenRosewarne,@Government_…\", 'Timestamp': datetime.datetime(2022, 6, 4, 14, 49, 45, tzinfo=datetime.timezone.utc)}, {'Tweet': 'RT @WSjp_insight: 1st US #PresidentialDebate 09/29/2020 - hosted by cwru &amp; ClevelandClinic\\n🇺🇸#Debates2020 #COVID19 \\nhttps://t.co/65GKfg68lP…', 'Timestamp': datetime.datetime(2022, 6, 4, 14, 49, 45, tzinfo=datetime.timezone.utc)}, {'Tweet': 'Atawezana na huyu kweli.. Kwanza kama amekonga ile slogan yake 🌿 🌿 🤣🤣🤣\\n#RailavsWajackoa #PresidentialDebate https://t.co/SCWYXhOUl5', 'Timestamp': datetime.datetime(2022, 6, 4, 12, 41, 41, tzinfo=datetime.timezone.utc)}, {'Tweet': 'RT @silasbogonko: Ruto is unable to participate in 2022 #PresidentialDebate cause of THREE issues:\\n1) Fear of questions on corruption alleg…', 'Timestamp': datetime.datetime(2022, 6, 4, 12, 4, 15, tzinfo=datetime.timezone.utc)}, {'Tweet': 'Since @WilliamsRuto does not trust the Kenyan media on the allegations of partisanship. We should have neutral part… https://t.co/ea0nEU7SPO', 'Timestamp': datetime.datetime(2022, 6, 4, 9, 0, 52, tzinfo=datetime.timezone.utc)}, {'Tweet': 'Facebook: https://t.co/O7k2OdDGUO\\nInstagram: https://t.co/4egpa2DbCN\\nContact:0710390109\\nKindly follow our pages &amp; h… https://t.co/SrVQQ4kIdk', 'Timestamp': datetime.datetime(2022, 6, 4, 7, 46, 54, tzinfo=datetime.timezone.utc)}, {'Tweet': 'RT @Mcheshires: IT guys who are looking for visa sponsorship jobs, Amazon is the biggest employer and has sponsored a very high number of s…', 'Timestamp': datetime.datetime(2022, 6, 4, 7, 43, 35, tzinfo=datetime.timezone.utc)}, {'Tweet': \"Isn't it interesting that the always biased @citizentvkenya are livestreaming the DP's @WilliamsRuto convoy as he p… https://t.co/fxYFdgTNaT\", 'Timestamp': datetime.datetime(2022, 6, 4, 7, 13, 4, tzinfo=datetime.timezone.utc)}, {'Tweet': 'RT @MugambiKibwi: @WilliamsRuto through his spokesperson @HusseinMohamedg has said he will not attend #PresidentialDebate , this means who…', 'Timestamp': datetime.datetime(2022, 6, 4, 4, 47, 39, tzinfo=datetime.timezone.utc)}, {'Tweet': 'RT @Mcheshires: IT guys who are looking for visa sponsorship jobs, Amazon is the biggest employer and has sponsored a very high number of s…', 'Timestamp': datetime.datetime(2022, 6, 4, 3, 4, 1, tzinfo=datetime.timezone.utc)}, {'Tweet': 'RT @Thagreatleo: #PresidentialDebate #2022 \\nWe are on💯 https://t.co/aJ4k7Bnp7Y', 'Timestamp': datetime.datetime(2022, 6, 4, 2, 53, 32, tzinfo=datetime.timezone.utc)}, {'Tweet': 'If there’s ever going to be a #PresidentialDebate, one important question anyone who gets the chance to ask a quest… https://t.co/wNQlzHDM5e', 'Timestamp': datetime.datetime(2022, 6, 4, 2, 40, 3, tzinfo=datetime.timezone.utc)}, {'Tweet': 'RT @Mcheshires: IT guys who are looking for visa sponsorship jobs, Amazon is the biggest employer and has sponsored a very high number of s…', 'Timestamp': datetime.datetime(2022, 6, 3, 21, 3, 27, tzinfo=datetime.timezone.utc)}, {'Tweet': 'RT @CosyhouseholdsK: Portable wardrobes available. Whatsapp 0765084000 to order.\\n\\n#citizentv #WhatsApp #presidentialdebate #MasculinitySatu…', 'Timestamp': datetime.datetime(2022, 6, 3, 20, 51, 6, tzinfo=datetime.timezone.utc)}, {'Tweet': 'RT @Mcheshires: IT guys who are looking for visa sponsorship jobs, Amazon is the biggest employer and has sponsored a very high number of s…', 'Timestamp': datetime.datetime(2022, 6, 3, 20, 51, tzinfo=datetime.timezone.utc)}, {'Tweet': 'RT @silasbogonko: Ruto is unable to participate in 2022 #PresidentialDebate cause of THREE issues:\\n1) Fear of questions on corruption alleg…', 'Timestamp': datetime.datetime(2022, 6, 3, 20, 48, 25, tzinfo=datetime.timezone.utc)}, {'Tweet': 'RT @Mcheshires: IT guys who are looking for visa sponsorship jobs, Amazon is the biggest employer and has sponsored a very high number of s…', 'Timestamp': datetime.datetime(2022, 6, 3, 20, 39, 41, tzinfo=datetime.timezone.utc)}, {'Tweet': 'Portable wardrobes available. Whatsapp 0765084000 to order.\\n\\n#citizentv #WhatsApp #presidentialdebate… https://t.co/RTkIplJ5LS', 'Timestamp': datetime.datetime(2022, 6, 3, 20, 36, 9, tzinfo=datetime.timezone.utc)}, {'Tweet': 'RT @Mcheshires: IT guys who are looking for visa sponsorship jobs, Amazon is the biggest employer and has sponsored a very high number of s…', 'Timestamp': datetime.datetime(2022, 6, 3, 20, 23, tzinfo=datetime.timezone.utc)}, {'Tweet': 'RT @Mcheshires: IT guys who are looking for visa sponsorship jobs, Amazon is the biggest employer and has sponsored a very high number of s…', 'Timestamp': datetime.datetime(2022, 6, 3, 20, 18, 58, tzinfo=datetime.timezone.utc)}, {'Tweet': 'RT @Mcheshires: IT guys who are looking for visa sponsorship jobs, Amazon is the biggest employer and has sponsored a very high number of s…', 'Timestamp': datetime.datetime(2022, 6, 3, 19, 42, 54, tzinfo=datetime.timezone.utc)}, {'Tweet': 'RT @Mcheshires: IT guys who are looking for visa sponsorship jobs, Amazon is the biggest employer and has sponsored a very high number of s…', 'Timestamp': datetime.datetime(2022, 6, 3, 19, 40, 49, tzinfo=datetime.timezone.utc)}, {'Tweet': 'Huyu mugwana sio kalonzo..ati atasema opposite,ni kusema na kutenda...assmio tv iteni mzee wa manyororo ama kibicho… https://t.co/XhRH2Ogkhe', 'Timestamp': datetime.datetime(2022, 6, 3, 19, 38, 44, tzinfo=datetime.timezone.utc)}, {'Tweet': 'RT @Mcheshires: IT guys who are looking for visa sponsorship jobs, Amazon is the biggest employer and has sponsored a very high number of s…', 'Timestamp': datetime.datetime(2022, 6, 3, 19, 36, 16, tzinfo=datetime.timezone.utc)}, {'Tweet': 'RT @Mcheshires: IT guys who are looking for visa sponsorship jobs, Amazon is the biggest employer and has sponsored a very high number of s…', 'Timestamp': datetime.datetime(2022, 6, 3, 19, 33, 37, tzinfo=datetime.timezone.utc)}, {'Tweet': '#PresidentialDebate #2022 \\nWe are on💯 https://t.co/aJ4k7Bnp7Y', 'Timestamp': datetime.datetime(2022, 6, 3, 19, 24, 44, tzinfo=datetime.timezone.utc)}, {'Tweet': 'RT @DetectiveRobin1: #PRESIDENTIALDEBATE\\n#MenatalHealthAwareness\\n21st century generation is an emotionally fragile generation vulnerable to…', 'Timestamp': datetime.datetime(2022, 6, 3, 19, 13, 31, tzinfo=datetime.timezone.utc)}, {'Tweet': '#PRESIDENTIALDEBATE\\n#MenatalHealthAwareness\\n21st century generation is an emotionally fragile generation vulnerable… https://t.co/nBpuAloY4i', 'Timestamp': datetime.datetime(2022, 6, 3, 18, 58, 41, tzinfo=datetime.timezone.utc)}, {'Tweet': 'RT @AlexOti80598451: This is how DP Ruto will be explaining Bottom up😅😅. \\n#HNIB\\n#PresidentialDebate https://t.co/Uryn7oR7d1', 'Timestamp': datetime.datetime(2022, 6, 3, 18, 53, 18, tzinfo=datetime.timezone.utc)}, {'Tweet': '@StandardKenya So in the eyes of @IEBCKenya the #Weed🍁🍁 actually overpowered #Milk🥛in Presidential clearance?… https://t.co/SzMP4aFws0', 'Timestamp': datetime.datetime(2022, 6, 3, 18, 37, 11, tzinfo=datetime.timezone.utc)}, {'Tweet': 'RT @silasbogonko: Ruto is unable to participate in 2022 #PresidentialDebate cause of THREE issues:\\n1) Fear of questions on corruption alleg…', 'Timestamp': datetime.datetime(2022, 6, 3, 18, 37, 6, tzinfo=datetime.timezone.utc)}, {'Tweet': '#IstandwithBabySariah #PRESIDENTIALDEBATE #Sharon #Arsenal #Narokdecides https://t.co/hiZ676Nxmu', 'Timestamp': datetime.datetime(2022, 6, 3, 18, 32, 25, tzinfo=datetime.timezone.utc)}, {'Tweet': 'This is how DP Ruto will be explaining Bottom up😅😅. \\n#HNIB\\n#PresidentialDebate https://t.co/Uryn7oR7d1', 'Timestamp': datetime.datetime(2022, 6, 3, 18, 29, 54, tzinfo=datetime.timezone.utc)}, {'Tweet': 'IT guys who are looking for visa sponsorship jobs, Amazon is the biggest employer and has sponsored a very high num… https://t.co/Q7svAfvrZ6', 'Timestamp': datetime.datetime(2022, 6, 3, 18, 6, 3, tzinfo=datetime.timezone.utc)}, {'Tweet': 'Ruto said he will not appear in the Presidential debate because he fears he may be cornered with a corruption quest… https://t.co/2DGefOSdRS', 'Timestamp': datetime.datetime(2022, 6, 3, 18, 0, 34, tzinfo=datetime.timezone.utc)}, {'Tweet': '#presidentialdebate\\n#Ruto https://t.co/tR62oucDCO', 'Timestamp': datetime.datetime(2022, 6, 3, 17, 58, 37, tzinfo=datetime.timezone.utc)}, {'Tweet': 'Ruto is and must go through whatever he compromised in the past elections. No way out for the son of Sugoi\\n#PresidentialDebate', 'Timestamp': datetime.datetime(2022, 6, 3, 17, 53, 46, tzinfo=datetime.timezone.utc)}, {'Tweet': 'Your last born sibling explain to your parents how they saw the mannerless you holding a gf 😄😄\\n\\n#Sharon… https://t.co/AYB6IXX41F', 'Timestamp': datetime.datetime(2022, 6, 3, 17, 48, 54, tzinfo=datetime.timezone.utc)}, {'Tweet': \"A relationship is best defined by how you relate with some or how you're connected to the person. Every day we crea… https://t.co/KnrO9lQGvE\", 'Timestamp': datetime.datetime(2022, 6, 3, 17, 47, 48, tzinfo=datetime.timezone.utc)}, {'Tweet': 'RT @BeingCharlie: @NationBreaking Raila Odinga vs William Ruto\\n#PresidentialDebate\\n\\nMartha Karua vs Rigathi Gachagua\\n#runningmate\\n\\nInterest…', 'Timestamp': datetime.datetime(2022, 6, 3, 17, 30, 12, tzinfo=datetime.timezone.utc)}, {'Tweet': 'RT @BeingCharlie: @NationBreaking Raila Odinga vs William Ruto\\n#PresidentialDebate\\n\\nMartha Karua vs Rigathi Gachagua\\n#runningmate\\n\\nInterest…', 'Timestamp': datetime.datetime(2022, 6, 3, 17, 29, 47, tzinfo=datetime.timezone.utc)}, {'Tweet': '@NationBreaking Raila Odinga vs William Ruto\\n#PresidentialDebate\\n\\nMartha Karua vs Rigathi Gachagua\\n#runningmate\\n\\nIn… https://t.co/c2RgnKaIjA', 'Timestamp': datetime.datetime(2022, 6, 3, 17, 28, 25, tzinfo=datetime.timezone.utc)}, {'Tweet': 'RT @silasbogonko: Ruto is unable to participate in 2022 #PresidentialDebate cause of THREE issues:\\n1) Fear of questions on corruption alleg…', 'Timestamp': datetime.datetime(2022, 6, 3, 15, 9, 21, tzinfo=datetime.timezone.utc)}, {'Tweet': 'Sasa kutoa billboard ya Ruto kisumu ni kitu ya kukataa #Presidentialdebate', 'Timestamp': datetime.datetime(2022, 6, 3, 14, 46, 24, tzinfo=datetime.timezone.utc)}, {'Tweet': 'RT @WSjp_insight: 1st US #PresidentialDebate 09/29/2020 - hosted by cwru &amp; ClevelandClinic\\n🇺🇸#Debates2020 #COVID19 \\nhttps://t.co/65GKfg68lP…', 'Timestamp': datetime.datetime(2022, 6, 3, 14, 40, 52, tzinfo=datetime.timezone.utc)}, {'Tweet': \"RT @WSjp_insight: 1st US #PresidentialDebate'16 excerpts.. https://t.co/IAxalj6Gxi @bencasselman @MelbInstUOM,@LaurenRosewarne,@Government_…\", 'Timestamp': datetime.datetime(2022, 6, 3, 14, 40, 43, tzinfo=datetime.timezone.utc)}, {'Tweet': 'RT @silasbogonko: Ruto is unable to participate in 2022 #PresidentialDebate cause of THREE issues:\\n1) Fear of questions on corruption alleg…', 'Timestamp': datetime.datetime(2022, 6, 3, 14, 2, 30, tzinfo=datetime.timezone.utc)}, {'Tweet': 'RT @silasbogonko: Ruto is unable to participate in 2022 #PresidentialDebate cause of THREE issues:\\n1) Fear of questions on corruption alleg…', 'Timestamp': datetime.datetime(2022, 6, 3, 9, 38, 14, tzinfo=datetime.timezone.utc)}, {'Tweet': 'RT @silasbogonko: Ruto is unable to participate in 2022 #PresidentialDebate cause of THREE issues:\\n1) Fear of questions on corruption alleg…', 'Timestamp': datetime.datetime(2022, 6, 3, 9, 10, 23, tzinfo=datetime.timezone.utc)}, {'Tweet': 'RT @silasbogonko: Ruto is unable to participate in 2022 #PresidentialDebate cause of THREE issues:\\n1) Fear of questions on corruption alleg…', 'Timestamp': datetime.datetime(2022, 6, 3, 8, 56, 43, tzinfo=datetime.timezone.utc)}, {'Tweet': 'RT @silasbogonko: Ruto is unable to participate in 2022 #PresidentialDebate cause of THREE issues:\\n1) Fear of questions on corruption alleg…', 'Timestamp': datetime.datetime(2022, 6, 3, 8, 34, 10, tzinfo=datetime.timezone.utc)}, {'Tweet': 'RT @silasbogonko: Ruto is unable to participate in 2022 #PresidentialDebate cause of THREE issues:\\n1) Fear of questions on corruption alleg…', 'Timestamp': datetime.datetime(2022, 6, 3, 6, 51, 26, tzinfo=datetime.timezone.utc)}, {'Tweet': 'RT @silasbogonko: Ruto is unable to participate in 2022 #PresidentialDebate cause of THREE issues:\\n1) Fear of questions on corruption alleg…', 'Timestamp': datetime.datetime(2022, 6, 3, 6, 47, 2, tzinfo=datetime.timezone.utc)}, {'Tweet': 'RT @silasbogonko: Ruto is unable to participate in 2022 #PresidentialDebate cause of THREE issues:\\n1) Fear of questions on corruption alleg…', 'Timestamp': datetime.datetime(2022, 6, 3, 6, 4, 31, tzinfo=datetime.timezone.utc)}, {'Tweet': 'RT @silasbogonko: Ruto is unable to participate in 2022 #PresidentialDebate cause of THREE issues:\\n1) Fear of questions on corruption alleg…', 'Timestamp': datetime.datetime(2022, 6, 3, 6, 0, 35, tzinfo=datetime.timezone.utc)}, {'Tweet': 'RT @silasbogonko: Ruto is unable to participate in 2022 #PresidentialDebate cause of THREE issues:\\n1) Fear of questions on corruption alleg…', 'Timestamp': datetime.datetime(2022, 6, 3, 4, 37, 11, tzinfo=datetime.timezone.utc)}, {'Tweet': 'RT @silasbogonko: Ruto is unable to participate in 2022 #PresidentialDebate cause of THREE issues:\\n1) Fear of questions on corruption alleg…', 'Timestamp': datetime.datetime(2022, 6, 3, 4, 7, 13, tzinfo=datetime.timezone.utc)}, {'Tweet': 'RT @silasbogonko: Ruto is unable to participate in 2022 #PresidentialDebate cause of THREE issues:\\n1) Fear of questions on corruption alleg…', 'Timestamp': datetime.datetime(2022, 6, 3, 4, 4, 43, tzinfo=datetime.timezone.utc)}, {'Tweet': 'RT @silasbogonko: Ruto is unable to participate in 2022 #PresidentialDebate cause of THREE issues:\\n1) Fear of questions on corruption alleg…', 'Timestamp': datetime.datetime(2022, 6, 3, 3, 30, 29, tzinfo=datetime.timezone.utc)}, {'Tweet': 'RT @silasbogonko: Ruto is unable to participate in 2022 #PresidentialDebate cause of THREE issues:\\n1) Fear of questions on corruption alleg…', 'Timestamp': datetime.datetime(2022, 6, 3, 1, 29, 42, tzinfo=datetime.timezone.utc)}, {'Tweet': 'RT @silasbogonko: Ruto is unable to participate in 2022 #PresidentialDebate cause of THREE issues:\\n1) Fear of questions on corruption alleg…', 'Timestamp': datetime.datetime(2022, 6, 2, 23, 16, 54, tzinfo=datetime.timezone.utc)}, {'Tweet': 'RT @silasbogonko: Ruto is unable to participate in 2022 #PresidentialDebate cause of THREE issues:\\n1) Fear of questions on corruption alleg…', 'Timestamp': datetime.datetime(2022, 6, 2, 20, 17, 6, tzinfo=datetime.timezone.utc)}, {'Tweet': 'Now that the DP has declined to appear for #PresidentialDebate we want to see Gachagua face the iron lady Martha Karua...', 'Timestamp': datetime.datetime(2022, 6, 2, 18, 8, 46, tzinfo=datetime.timezone.utc)}, {'Tweet': 'RT @silasbogonko: Ruto is unable to participate in 2022 #PresidentialDebate cause of THREE issues:\\n1) Fear of questions on corruption alleg…', 'Timestamp': datetime.datetime(2022, 6, 2, 17, 48, 51, tzinfo=datetime.timezone.utc)}, {'Tweet': 'RT @silasbogonko: Ruto is unable to participate in 2022 #PresidentialDebate cause of THREE issues:\\n1) Fear of questions on corruption alleg…', 'Timestamp': datetime.datetime(2022, 6, 2, 17, 27, 15, tzinfo=datetime.timezone.utc)}, {'Tweet': 'RT @silasbogonko: Ruto is unable to participate in 2022 #PresidentialDebate cause of THREE issues:\\n1) Fear of questions on corruption alleg…', 'Timestamp': datetime.datetime(2022, 6, 2, 16, 37, 50, tzinfo=datetime.timezone.utc)}, {'Tweet': 'RT @silasbogonko: Ruto is unable to participate in 2022 #PresidentialDebate cause of THREE issues:\\n1) Fear of questions on corruption alleg…', 'Timestamp': datetime.datetime(2022, 6, 2, 16, 34, 25, tzinfo=datetime.timezone.utc)}, {'Tweet': 'Ruto is unable to participate in 2022 #PresidentialDebate cause of THREE issues:\\n1) Fear of questions on corruption… https://t.co/7uA1rLLrdT', 'Timestamp': datetime.datetime(2022, 6, 2, 16, 31, 18, tzinfo=datetime.timezone.utc)}, {'Tweet': 'RT @MugambiKibwi: @WilliamsRuto through his spokesperson @HusseinMohamedg has said he will not attend #PresidentialDebate , this means who…', 'Timestamp': datetime.datetime(2022, 6, 2, 15, 44, 28, tzinfo=datetime.timezone.utc)}, {'Tweet': 'RT @MugambiKibwi: @WilliamsRuto through his spokesperson @HusseinMohamedg has said he will not attend #PresidentialDebate , this means who…', 'Timestamp': datetime.datetime(2022, 6, 2, 14, 45, 28, tzinfo=datetime.timezone.utc)}, {'Tweet': 'RT @MugambiKibwi: @WilliamsRuto through his spokesperson @HusseinMohamedg has said he will not attend #PresidentialDebate , this means who…', 'Timestamp': datetime.datetime(2022, 6, 2, 14, 39, 35, tzinfo=datetime.timezone.utc)}, {'Tweet': '@WilliamsRuto through his spokesperson @HusseinMohamedg has said he will not attend #PresidentialDebate , this mean… https://t.co/uXyWOtctK3', 'Timestamp': datetime.datetime(2022, 6, 2, 14, 31, 45, tzinfo=datetime.timezone.utc)}, {'Tweet': '@Dr_Mndonye @citizentvkenya Waiting for Hustler vs Kitendawili #PresidentialDebate', 'Timestamp': datetime.datetime(2022, 6, 1, 11, 41, 4, tzinfo=datetime.timezone.utc)}, {'Tweet': 'RT @WSjp_insight: Final(2nd)US🇺🇸#PresidentialDebate 10/22/2020 BelmontUniv #debate,#Debates2020 \\nhttps://t.co/IxTYG359i2\\nnewsmax MotherJone…', 'Timestamp': datetime.datetime(2022, 5, 31, 13, 54, 14, tzinfo=datetime.timezone.utc)}, {'Tweet': 'RT @WSjp_insight: 3rd US #PresidentialDebate articles https://t.co/64dClOHu2m BerkeleyISchool Center4Politics YouGovUS KelloggSchool cage_w…', 'Timestamp': datetime.datetime(2022, 5, 31, 13, 47, 20, tzinfo=datetime.timezone.utc)}, {'Tweet': 'RT @WSjp_insight: 1st US #PresidentialDebate 09/29/2020\\n🇺🇸#Debates2020 #TrumpBidenDebate\\nhttps://t.co/DfBnubTidB\\nPBS,NewsHour CBSNews NBCPo…', 'Timestamp': datetime.datetime(2022, 5, 31, 13, 42, 32, tzinfo=datetime.timezone.utc)}, {'Tweet': 'RT @WSjp_insight: 2nd US #PresidentialDebate articles https://t.co/3uiHbyyVnD WUSTL bpolitics TPM nprpolitics HuffPostPol thedailybeast the…', 'Timestamp': datetime.datetime(2022, 5, 31, 13, 42, 24, tzinfo=datetime.timezone.utc)}, {'Tweet': 'RT @nickelthaboss1: 2023 presidential debate go make sense die becux all the candidates are well educated and we no go hear dafipeople dafi…', 'Timestamp': datetime.datetime(2022, 5, 30, 19, 49, 15, tzinfo=datetime.timezone.utc)}, {'Tweet': '2023 presidential debate go make sense die becux all the candidates are well educated and we no go hear dafipeople… https://t.co/hye2v76biB', 'Timestamp': datetime.datetime(2022, 5, 30, 19, 45, 40, tzinfo=datetime.timezone.utc)}, {'Tweet': 'Tinubu arrives transcop hilton for APC presidential screening\\n\\n #apc #screening #election #presidentialdebate https://t.co/yqvwEkb6vu', 'Timestamp': datetime.datetime(2022, 5, 30, 18, 22, 30, tzinfo=datetime.timezone.utc)}, {'Tweet': '@WilliamsRuto will regret of picking gathaagua and damping Kindiki your either your advisers or your instincts betr… https://t.co/5GqTzqq25Q', 'Timestamp': datetime.datetime(2022, 5, 30, 11, 53, 39, tzinfo=datetime.timezone.utc)}, {'Tweet': 'RT @WSjp_insight: Final(2nd)US🇺🇸#PresidentialDebate 10/22/2020 BelmontUniv #debate,#Debates2020 \\nhttps://t.co/IxTYG359i2\\nnewsmax MotherJone…', 'Timestamp': datetime.datetime(2022, 5, 29, 13, 51, 53, tzinfo=datetime.timezone.utc)}, {'Tweet': 'RT @WSjp_insight: 3rd US #PresidentialDebate articles https://t.co/64dClOHu2m BerkeleyISchool Center4Politics YouGovUS KelloggSchool cage_w…', 'Timestamp': datetime.datetime(2022, 5, 29, 13, 51, 50, tzinfo=datetime.timezone.utc)}, {'Tweet': 'The first use of Radio in elections.\\n\\n#usa🇺🇸 #presidentialdebate #1924 #obama #bush #upsc #motivation #history… https://t.co/LEUFVV4hqD', 'Timestamp': datetime.datetime(2022, 5, 29, 7, 51, 59, tzinfo=datetime.timezone.utc)}, {'Tweet': \"RT @WSjp_insight: 1st US #PresidentialDebate'16 excerpts.. https://t.co/IAxalj6Gxi @bencasselman @MelbInstUOM,@LaurenRosewarne,@Government_…\", 'Timestamp': datetime.datetime(2022, 5, 28, 13, 56, 22, tzinfo=datetime.timezone.utc)}]\n"
     ]
    }
   ],
   "source": [
    "hashtag = \"#presidentialdebate\"\n",
    "query = tw.Cursor(api.search_tweets, q=hashtag).items(10000)\n",
    "tweets = [{'Tweet':tweet.text, 'Timestamp':tweet.created_at} for tweet in query]\n",
    "print(tweets)"
   ]
  },
  {
   "cell_type": "code",
   "execution_count": 8,
   "id": "78616162",
   "metadata": {},
   "outputs": [
    {
     "data": {
      "text/html": [
       "<div>\n",
       "<style scoped>\n",
       "    .dataframe tbody tr th:only-of-type {\n",
       "        vertical-align: middle;\n",
       "    }\n",
       "\n",
       "    .dataframe tbody tr th {\n",
       "        vertical-align: top;\n",
       "    }\n",
       "\n",
       "    .dataframe thead th {\n",
       "        text-align: right;\n",
       "    }\n",
       "</style>\n",
       "<table border=\"1\" class=\"dataframe\">\n",
       "  <thead>\n",
       "    <tr style=\"text-align: right;\">\n",
       "      <th></th>\n",
       "      <th>Tweet</th>\n",
       "      <th>Timestamp</th>\n",
       "    </tr>\n",
       "  </thead>\n",
       "  <tbody>\n",
       "    <tr>\n",
       "      <th>0</th>\n",
       "      <td>RT @DwayneFuhlhage: Of course my $0.99 Trump n...</td>\n",
       "      <td>2022-06-05 19:32:16+00:00</td>\n",
       "    </tr>\n",
       "    <tr>\n",
       "      <th>1</th>\n",
       "      <td>RT @WSjp_insight: Final(2nd)US🇺🇸#PresidentialD...</td>\n",
       "      <td>2022-06-05 13:56:06+00:00</td>\n",
       "    </tr>\n",
       "    <tr>\n",
       "      <th>2</th>\n",
       "      <td>RT @WSjp_insight: 3rd US #PresidentialDebate a...</td>\n",
       "      <td>2022-06-05 13:55:55+00:00</td>\n",
       "    </tr>\n",
       "    <tr>\n",
       "      <th>3</th>\n",
       "      <td>RT @WSjp_insight: 1st US #PresidentialDebate 0...</td>\n",
       "      <td>2022-06-05 13:47:06+00:00</td>\n",
       "    </tr>\n",
       "    <tr>\n",
       "      <th>4</th>\n",
       "      <td>RT @WSjp_insight: 2nd US #PresidentialDebate a...</td>\n",
       "      <td>2022-06-05 13:46:50+00:00</td>\n",
       "    </tr>\n",
       "  </tbody>\n",
       "</table>\n",
       "</div>"
      ],
      "text/plain": [
       "                                               Tweet                 Timestamp\n",
       "0  RT @DwayneFuhlhage: Of course my $0.99 Trump n... 2022-06-05 19:32:16+00:00\n",
       "1  RT @WSjp_insight: Final(2nd)US🇺🇸#PresidentialD... 2022-06-05 13:56:06+00:00\n",
       "2  RT @WSjp_insight: 3rd US #PresidentialDebate a... 2022-06-05 13:55:55+00:00\n",
       "3  RT @WSjp_insight: 1st US #PresidentialDebate 0... 2022-06-05 13:47:06+00:00\n",
       "4  RT @WSjp_insight: 2nd US #PresidentialDebate a... 2022-06-05 13:46:50+00:00"
      ]
     },
     "execution_count": 8,
     "metadata": {},
     "output_type": "execute_result"
    }
   ],
   "source": [
    "df = pd.DataFrame.from_dict(tweets)\n",
    "df.head()\n"
   ]
  },
  {
   "cell_type": "code",
   "execution_count": 9,
   "id": "6cb46495",
   "metadata": {},
   "outputs": [],
   "source": [
    "trump_handle = ['DonaldTrump', 'Donald Trump', 'Donald', 'Trump', 'Trump\\'s']\n",
    "biden_handle = ['JoeBiden', 'Joe Biden', 'Joe', 'Biden', 'Biden\\'s']"
   ]
  },
  {
   "cell_type": "code",
   "execution_count": null,
   "id": "83cb26f8",
   "metadata": {},
   "outputs": [],
   "source": []
  },
  {
   "cell_type": "code",
   "execution_count": 10,
   "id": "71873621",
   "metadata": {},
   "outputs": [
    {
     "data": {
      "text/html": [
       "<div>\n",
       "<style scoped>\n",
       "    .dataframe tbody tr th:only-of-type {\n",
       "        vertical-align: middle;\n",
       "    }\n",
       "\n",
       "    .dataframe tbody tr th {\n",
       "        vertical-align: top;\n",
       "    }\n",
       "\n",
       "    .dataframe thead th {\n",
       "        text-align: right;\n",
       "    }\n",
       "</style>\n",
       "<table border=\"1\" class=\"dataframe\">\n",
       "  <thead>\n",
       "    <tr style=\"text-align: right;\">\n",
       "      <th></th>\n",
       "      <th>Tweet</th>\n",
       "      <th>Timestamp</th>\n",
       "      <th>Trump</th>\n",
       "      <th>Biden</th>\n",
       "    </tr>\n",
       "  </thead>\n",
       "  <tbody>\n",
       "    <tr>\n",
       "      <th>0</th>\n",
       "      <td>RT @DwayneFuhlhage: Of course my $0.99 Trump n...</td>\n",
       "      <td>2022-06-05 19:32:16+00:00</td>\n",
       "      <td>1</td>\n",
       "      <td>0</td>\n",
       "    </tr>\n",
       "    <tr>\n",
       "      <th>1</th>\n",
       "      <td>RT @WSjp_insight: Final(2nd)US🇺🇸#PresidentialD...</td>\n",
       "      <td>2022-06-05 13:56:06+00:00</td>\n",
       "      <td>0</td>\n",
       "      <td>0</td>\n",
       "    </tr>\n",
       "    <tr>\n",
       "      <th>2</th>\n",
       "      <td>RT @WSjp_insight: 3rd US #PresidentialDebate a...</td>\n",
       "      <td>2022-06-05 13:55:55+00:00</td>\n",
       "      <td>0</td>\n",
       "      <td>0</td>\n",
       "    </tr>\n",
       "    <tr>\n",
       "      <th>3</th>\n",
       "      <td>RT @WSjp_insight: 1st US #PresidentialDebate 0...</td>\n",
       "      <td>2022-06-05 13:47:06+00:00</td>\n",
       "      <td>1</td>\n",
       "      <td>1</td>\n",
       "    </tr>\n",
       "    <tr>\n",
       "      <th>4</th>\n",
       "      <td>RT @WSjp_insight: 2nd US #PresidentialDebate a...</td>\n",
       "      <td>2022-06-05 13:46:50+00:00</td>\n",
       "      <td>0</td>\n",
       "      <td>0</td>\n",
       "    </tr>\n",
       "    <tr>\n",
       "      <th>5</th>\n",
       "      <td>The 5th is presenting his credentials for the ...</td>\n",
       "      <td>2022-06-05 05:52:14+00:00</td>\n",
       "      <td>0</td>\n",
       "      <td>0</td>\n",
       "    </tr>\n",
       "    <tr>\n",
       "      <th>6</th>\n",
       "      <td>RT @whitney_stesher: Sisi tunajua president we...</td>\n",
       "      <td>2022-06-05 02:28:16+00:00</td>\n",
       "      <td>0</td>\n",
       "      <td>0</td>\n",
       "    </tr>\n",
       "    <tr>\n",
       "      <th>7</th>\n",
       "      <td>RT @jaydiggsmusic: Jay Diggs with his new smas...</td>\n",
       "      <td>2022-06-05 02:04:14+00:00</td>\n",
       "      <td>0</td>\n",
       "      <td>0</td>\n",
       "    </tr>\n",
       "    <tr>\n",
       "      <th>8</th>\n",
       "      <td>Who will you vote in August 2022\\n#presidentia...</td>\n",
       "      <td>2022-06-04 20:19:47+00:00</td>\n",
       "      <td>0</td>\n",
       "      <td>0</td>\n",
       "    </tr>\n",
       "    <tr>\n",
       "      <th>9</th>\n",
       "      <td>RT @duncanHustlerNa: I Will Obviously RESPECT ...</td>\n",
       "      <td>2022-06-04 17:57:09+00:00</td>\n",
       "      <td>0</td>\n",
       "      <td>0</td>\n",
       "    </tr>\n",
       "  </tbody>\n",
       "</table>\n",
       "</div>"
      ],
      "text/plain": [
       "                                               Tweet  \\\n",
       "0  RT @DwayneFuhlhage: Of course my $0.99 Trump n...   \n",
       "1  RT @WSjp_insight: Final(2nd)US🇺🇸#PresidentialD...   \n",
       "2  RT @WSjp_insight: 3rd US #PresidentialDebate a...   \n",
       "3  RT @WSjp_insight: 1st US #PresidentialDebate 0...   \n",
       "4  RT @WSjp_insight: 2nd US #PresidentialDebate a...   \n",
       "5  The 5th is presenting his credentials for the ...   \n",
       "6  RT @whitney_stesher: Sisi tunajua president we...   \n",
       "7  RT @jaydiggsmusic: Jay Diggs with his new smas...   \n",
       "8  Who will you vote in August 2022\\n#presidentia...   \n",
       "9  RT @duncanHustlerNa: I Will Obviously RESPECT ...   \n",
       "\n",
       "                  Timestamp  Trump  Biden  \n",
       "0 2022-06-05 19:32:16+00:00      1      0  \n",
       "1 2022-06-05 13:56:06+00:00      0      0  \n",
       "2 2022-06-05 13:55:55+00:00      0      0  \n",
       "3 2022-06-05 13:47:06+00:00      1      1  \n",
       "4 2022-06-05 13:46:50+00:00      0      0  \n",
       "5 2022-06-05 05:52:14+00:00      0      0  \n",
       "6 2022-06-05 02:28:16+00:00      0      0  \n",
       "7 2022-06-05 02:04:14+00:00      0      0  \n",
       "8 2022-06-04 20:19:47+00:00      0      0  \n",
       "9 2022-06-04 17:57:09+00:00      0      0  "
      ]
     },
     "execution_count": 10,
     "metadata": {},
     "output_type": "execute_result"
    }
   ],
   "source": [
    "def identify_subject(tweet, refs):\n",
    "    flag = 0 \n",
    "    for ref in refs:\n",
    "        if tweet.find(ref) != -1:\n",
    "            flag = 1\n",
    "    return flag\n",
    "\n",
    "df['Trump'] = df['Tweet'].apply(lambda x: identify_subject(x, trump_handle)) \n",
    "df['Biden'] = df['Tweet'].apply(lambda x: identify_subject(x, biden_handle))\n",
    "df.head(10)"
   ]
  },
  {
   "cell_type": "code",
   "execution_count": 11,
   "id": "5dd7b61a",
   "metadata": {},
   "outputs": [
    {
     "name": "stdout",
     "output_type": "stream",
     "text": [
      "Requirement already satisfied: nltk in c:\\users\\iranna patil\\anaconda3\\lib\\site-packages (3.6.5)\n",
      "Requirement already satisfied: click in c:\\users\\iranna patil\\anaconda3\\lib\\site-packages (from nltk) (8.0.3)\n",
      "Requirement already satisfied: joblib in c:\\users\\iranna patil\\anaconda3\\lib\\site-packages (from nltk) (1.1.0)\n",
      "Requirement already satisfied: regex>=2021.8.3 in c:\\users\\iranna patil\\anaconda3\\lib\\site-packages (from nltk) (2021.8.3)\n",
      "Requirement already satisfied: tqdm in c:\\users\\iranna patil\\anaconda3\\lib\\site-packages (from nltk) (4.62.3)\n",
      "Requirement already satisfied: colorama in c:\\users\\iranna patil\\anaconda3\\lib\\site-packages (from click->nltk) (0.4.4)\n"
     ]
    }
   ],
   "source": [
    "!pip install nltk\n"
   ]
  },
  {
   "cell_type": "code",
   "execution_count": 12,
   "id": "db2255d7",
   "metadata": {},
   "outputs": [
    {
     "ename": "ModuleNotFoundError",
     "evalue": "No module named 'textblob'",
     "output_type": "error",
     "traceback": [
      "\u001b[1;31m---------------------------------------------------------------------------\u001b[0m",
      "\u001b[1;31mModuleNotFoundError\u001b[0m                       Traceback (most recent call last)",
      "\u001b[1;32mC:\\Users\\IRANNA~1\\AppData\\Local\\Temp/ipykernel_12048/973396028.py\u001b[0m in \u001b[0;36m<module>\u001b[1;34m\u001b[0m\n\u001b[0;32m      3\u001b[0m \u001b[1;33m\u001b[0m\u001b[0m\n\u001b[0;32m      4\u001b[0m \u001b[1;31m# Import textblob\u001b[0m\u001b[1;33m\u001b[0m\u001b[1;33m\u001b[0m\u001b[0m\n\u001b[1;32m----> 5\u001b[1;33m \u001b[1;32mfrom\u001b[0m \u001b[0mtextblob\u001b[0m \u001b[1;32mimport\u001b[0m \u001b[0mWord\u001b[0m\u001b[1;33m,\u001b[0m \u001b[0mTextBlob\u001b[0m\u001b[1;33m\u001b[0m\u001b[1;33m\u001b[0m\u001b[0m\n\u001b[0m",
      "\u001b[1;31mModuleNotFoundError\u001b[0m: No module named 'textblob'"
     ]
    }
   ],
   "source": [
    "import nltk\n",
    "from nltk.corpus import stopwords\n",
    "\n",
    "# Import textblob\n",
    "from textblob import Word, TextBlob"
   ]
  },
  {
   "cell_type": "code",
   "execution_count": 13,
   "id": "ec5a6631",
   "metadata": {},
   "outputs": [
    {
     "name": "stdout",
     "output_type": "stream",
     "text": [
      "Collecting textblob\n",
      "  Downloading textblob-0.17.1-py2.py3-none-any.whl (636 kB)\n",
      "Requirement already satisfied: nltk>=3.1 in c:\\users\\iranna patil\\anaconda3\\lib\\site-packages (from textblob) (3.6.5)\n",
      "Requirement already satisfied: click in c:\\users\\iranna patil\\anaconda3\\lib\\site-packages (from nltk>=3.1->textblob) (8.0.3)\n",
      "Requirement already satisfied: joblib in c:\\users\\iranna patil\\anaconda3\\lib\\site-packages (from nltk>=3.1->textblob) (1.1.0)\n",
      "Requirement already satisfied: regex>=2021.8.3 in c:\\users\\iranna patil\\anaconda3\\lib\\site-packages (from nltk>=3.1->textblob) (2021.8.3)\n",
      "Requirement already satisfied: tqdm in c:\\users\\iranna patil\\anaconda3\\lib\\site-packages (from nltk>=3.1->textblob) (4.62.3)\n",
      "Requirement already satisfied: colorama in c:\\users\\iranna patil\\anaconda3\\lib\\site-packages (from click->nltk>=3.1->textblob) (0.4.4)\n",
      "Installing collected packages: textblob\n",
      "Successfully installed textblob-0.17.1\n"
     ]
    }
   ],
   "source": [
    "!pip install textblob"
   ]
  },
  {
   "cell_type": "code",
   "execution_count": 14,
   "id": "64d91a9c",
   "metadata": {},
   "outputs": [
    {
     "name": "stderr",
     "output_type": "stream",
     "text": [
      "[nltk_data] Downloading package stopwords to C:\\Users\\Iranna\n",
      "[nltk_data]     Patil\\AppData\\Roaming\\nltk_data...\n",
      "[nltk_data]   Unzipping corpora\\stopwords.zip.\n",
      "[nltk_data] Downloading package wordnet to C:\\Users\\Iranna\n",
      "[nltk_data]     Patil\\AppData\\Roaming\\nltk_data...\n",
      "[nltk_data]   Unzipping corpora\\wordnet.zip.\n"
     ]
    }
   ],
   "source": [
    "nltk.download('stopwords')\n",
    "nltk.download('wordnet')\n",
    "stop_words = stopwords.words('english')\n",
    "custom_stopwords = ['RT', '#PresidentialDebate']"
   ]
  },
  {
   "cell_type": "code",
   "execution_count": 15,
   "id": "b7ba43f4",
   "metadata": {},
   "outputs": [
    {
     "ename": "NameError",
     "evalue": "name 'Word' is not defined",
     "output_type": "error",
     "traceback": [
      "\u001b[1;31m---------------------------------------------------------------------------\u001b[0m",
      "\u001b[1;31mNameError\u001b[0m                                 Traceback (most recent call last)",
      "\u001b[1;32mC:\\Users\\IRANNA~1\\AppData\\Local\\Temp/ipykernel_12048/3148774473.py\u001b[0m in \u001b[0;36m<module>\u001b[1;34m\u001b[0m\n\u001b[0;32m      7\u001b[0m     \u001b[1;32mreturn\u001b[0m\u001b[1;33m(\u001b[0m\u001b[0mprocessed_tweet\u001b[0m\u001b[1;33m)\u001b[0m\u001b[1;33m\u001b[0m\u001b[1;33m\u001b[0m\u001b[0m\n\u001b[0;32m      8\u001b[0m \u001b[1;33m\u001b[0m\u001b[0m\n\u001b[1;32m----> 9\u001b[1;33m \u001b[0mdf\u001b[0m\u001b[1;33m[\u001b[0m\u001b[1;34m'Processed Tweet'\u001b[0m\u001b[1;33m]\u001b[0m \u001b[1;33m=\u001b[0m \u001b[0mdf\u001b[0m\u001b[1;33m[\u001b[0m\u001b[1;34m'Tweet'\u001b[0m\u001b[1;33m]\u001b[0m\u001b[1;33m.\u001b[0m\u001b[0mapply\u001b[0m\u001b[1;33m(\u001b[0m\u001b[1;32mlambda\u001b[0m \u001b[0mx\u001b[0m\u001b[1;33m:\u001b[0m \u001b[0mpreprocess_tweets\u001b[0m\u001b[1;33m(\u001b[0m\u001b[0mx\u001b[0m\u001b[1;33m,\u001b[0m \u001b[0mcustom_stopwords\u001b[0m\u001b[1;33m)\u001b[0m\u001b[1;33m)\u001b[0m\u001b[1;33m\u001b[0m\u001b[1;33m\u001b[0m\u001b[0m\n\u001b[0m\u001b[0;32m     10\u001b[0m \u001b[0mdf\u001b[0m\u001b[1;33m.\u001b[0m\u001b[0mhead\u001b[0m\u001b[1;33m(\u001b[0m\u001b[1;33m)\u001b[0m\u001b[1;33m\u001b[0m\u001b[1;33m\u001b[0m\u001b[0m\n",
      "\u001b[1;32m~\\anaconda3\\lib\\site-packages\\pandas\\core\\series.py\u001b[0m in \u001b[0;36mapply\u001b[1;34m(self, func, convert_dtype, args, **kwargs)\u001b[0m\n\u001b[0;32m   4355\u001b[0m         \u001b[0mdtype\u001b[0m\u001b[1;33m:\u001b[0m \u001b[0mfloat64\u001b[0m\u001b[1;33m\u001b[0m\u001b[1;33m\u001b[0m\u001b[0m\n\u001b[0;32m   4356\u001b[0m         \"\"\"\n\u001b[1;32m-> 4357\u001b[1;33m         \u001b[1;32mreturn\u001b[0m \u001b[0mSeriesApply\u001b[0m\u001b[1;33m(\u001b[0m\u001b[0mself\u001b[0m\u001b[1;33m,\u001b[0m \u001b[0mfunc\u001b[0m\u001b[1;33m,\u001b[0m \u001b[0mconvert_dtype\u001b[0m\u001b[1;33m,\u001b[0m \u001b[0margs\u001b[0m\u001b[1;33m,\u001b[0m \u001b[0mkwargs\u001b[0m\u001b[1;33m)\u001b[0m\u001b[1;33m.\u001b[0m\u001b[0mapply\u001b[0m\u001b[1;33m(\u001b[0m\u001b[1;33m)\u001b[0m\u001b[1;33m\u001b[0m\u001b[1;33m\u001b[0m\u001b[0m\n\u001b[0m\u001b[0;32m   4358\u001b[0m \u001b[1;33m\u001b[0m\u001b[0m\n\u001b[0;32m   4359\u001b[0m     def _reduce(\n",
      "\u001b[1;32m~\\anaconda3\\lib\\site-packages\\pandas\\core\\apply.py\u001b[0m in \u001b[0;36mapply\u001b[1;34m(self)\u001b[0m\n\u001b[0;32m   1041\u001b[0m             \u001b[1;32mreturn\u001b[0m \u001b[0mself\u001b[0m\u001b[1;33m.\u001b[0m\u001b[0mapply_str\u001b[0m\u001b[1;33m(\u001b[0m\u001b[1;33m)\u001b[0m\u001b[1;33m\u001b[0m\u001b[1;33m\u001b[0m\u001b[0m\n\u001b[0;32m   1042\u001b[0m \u001b[1;33m\u001b[0m\u001b[0m\n\u001b[1;32m-> 1043\u001b[1;33m         \u001b[1;32mreturn\u001b[0m \u001b[0mself\u001b[0m\u001b[1;33m.\u001b[0m\u001b[0mapply_standard\u001b[0m\u001b[1;33m(\u001b[0m\u001b[1;33m)\u001b[0m\u001b[1;33m\u001b[0m\u001b[1;33m\u001b[0m\u001b[0m\n\u001b[0m\u001b[0;32m   1044\u001b[0m \u001b[1;33m\u001b[0m\u001b[0m\n\u001b[0;32m   1045\u001b[0m     \u001b[1;32mdef\u001b[0m \u001b[0magg\u001b[0m\u001b[1;33m(\u001b[0m\u001b[0mself\u001b[0m\u001b[1;33m)\u001b[0m\u001b[1;33m:\u001b[0m\u001b[1;33m\u001b[0m\u001b[1;33m\u001b[0m\u001b[0m\n",
      "\u001b[1;32m~\\anaconda3\\lib\\site-packages\\pandas\\core\\apply.py\u001b[0m in \u001b[0;36mapply_standard\u001b[1;34m(self)\u001b[0m\n\u001b[0;32m   1096\u001b[0m                 \u001b[1;31m# List[Union[Callable[..., Any], str]]]]]\"; expected\u001b[0m\u001b[1;33m\u001b[0m\u001b[1;33m\u001b[0m\u001b[0m\n\u001b[0;32m   1097\u001b[0m                 \u001b[1;31m# \"Callable[[Any], Any]\"\u001b[0m\u001b[1;33m\u001b[0m\u001b[1;33m\u001b[0m\u001b[0m\n\u001b[1;32m-> 1098\u001b[1;33m                 mapped = lib.map_infer(\n\u001b[0m\u001b[0;32m   1099\u001b[0m                     \u001b[0mvalues\u001b[0m\u001b[1;33m,\u001b[0m\u001b[1;33m\u001b[0m\u001b[1;33m\u001b[0m\u001b[0m\n\u001b[0;32m   1100\u001b[0m                     \u001b[0mf\u001b[0m\u001b[1;33m,\u001b[0m  \u001b[1;31m# type: ignore[arg-type]\u001b[0m\u001b[1;33m\u001b[0m\u001b[1;33m\u001b[0m\u001b[0m\n",
      "\u001b[1;32m~\\anaconda3\\lib\\site-packages\\pandas\\_libs\\lib.pyx\u001b[0m in \u001b[0;36mpandas._libs.lib.map_infer\u001b[1;34m()\u001b[0m\n",
      "\u001b[1;32mC:\\Users\\IRANNA~1\\AppData\\Local\\Temp/ipykernel_12048/3148774473.py\u001b[0m in \u001b[0;36m<lambda>\u001b[1;34m(x)\u001b[0m\n\u001b[0;32m      7\u001b[0m     \u001b[1;32mreturn\u001b[0m\u001b[1;33m(\u001b[0m\u001b[0mprocessed_tweet\u001b[0m\u001b[1;33m)\u001b[0m\u001b[1;33m\u001b[0m\u001b[1;33m\u001b[0m\u001b[0m\n\u001b[0;32m      8\u001b[0m \u001b[1;33m\u001b[0m\u001b[0m\n\u001b[1;32m----> 9\u001b[1;33m \u001b[0mdf\u001b[0m\u001b[1;33m[\u001b[0m\u001b[1;34m'Processed Tweet'\u001b[0m\u001b[1;33m]\u001b[0m \u001b[1;33m=\u001b[0m \u001b[0mdf\u001b[0m\u001b[1;33m[\u001b[0m\u001b[1;34m'Tweet'\u001b[0m\u001b[1;33m]\u001b[0m\u001b[1;33m.\u001b[0m\u001b[0mapply\u001b[0m\u001b[1;33m(\u001b[0m\u001b[1;32mlambda\u001b[0m \u001b[0mx\u001b[0m\u001b[1;33m:\u001b[0m \u001b[0mpreprocess_tweets\u001b[0m\u001b[1;33m(\u001b[0m\u001b[0mx\u001b[0m\u001b[1;33m,\u001b[0m \u001b[0mcustom_stopwords\u001b[0m\u001b[1;33m)\u001b[0m\u001b[1;33m)\u001b[0m\u001b[1;33m\u001b[0m\u001b[1;33m\u001b[0m\u001b[0m\n\u001b[0m\u001b[0;32m     10\u001b[0m \u001b[0mdf\u001b[0m\u001b[1;33m.\u001b[0m\u001b[0mhead\u001b[0m\u001b[1;33m(\u001b[0m\u001b[1;33m)\u001b[0m\u001b[1;33m\u001b[0m\u001b[1;33m\u001b[0m\u001b[0m\n",
      "\u001b[1;32mC:\\Users\\IRANNA~1\\AppData\\Local\\Temp/ipykernel_12048/3148774473.py\u001b[0m in \u001b[0;36mpreprocess_tweets\u001b[1;34m(tweet, custom_stopwords)\u001b[0m\n\u001b[0;32m      4\u001b[0m     \u001b[0mprocessed_tweet\u001b[0m \u001b[1;33m=\u001b[0m \u001b[1;34m\" \"\u001b[0m\u001b[1;33m.\u001b[0m\u001b[0mjoin\u001b[0m\u001b[1;33m(\u001b[0m\u001b[1;33m[\u001b[0m\u001b[0mword\u001b[0m \u001b[1;32mfor\u001b[0m \u001b[0mword\u001b[0m \u001b[1;32min\u001b[0m \u001b[0mprocessed_tweet\u001b[0m\u001b[1;33m.\u001b[0m\u001b[0msplit\u001b[0m\u001b[1;33m(\u001b[0m\u001b[1;33m)\u001b[0m \u001b[1;32mif\u001b[0m \u001b[0mword\u001b[0m \u001b[1;32mnot\u001b[0m \u001b[1;32min\u001b[0m \u001b[0mstop_words\u001b[0m\u001b[1;33m]\u001b[0m\u001b[1;33m)\u001b[0m\u001b[1;33m\u001b[0m\u001b[1;33m\u001b[0m\u001b[0m\n\u001b[0;32m      5\u001b[0m     \u001b[0mprocessed_tweet\u001b[0m \u001b[1;33m=\u001b[0m \u001b[1;34m\" \"\u001b[0m\u001b[1;33m.\u001b[0m\u001b[0mjoin\u001b[0m\u001b[1;33m(\u001b[0m\u001b[1;33m[\u001b[0m\u001b[0mword\u001b[0m \u001b[1;32mfor\u001b[0m \u001b[0mword\u001b[0m \u001b[1;32min\u001b[0m \u001b[0mprocessed_tweet\u001b[0m\u001b[1;33m.\u001b[0m\u001b[0msplit\u001b[0m\u001b[1;33m(\u001b[0m\u001b[1;33m)\u001b[0m \u001b[1;32mif\u001b[0m \u001b[0mword\u001b[0m \u001b[1;32mnot\u001b[0m \u001b[1;32min\u001b[0m \u001b[0mcustom_stopwords\u001b[0m\u001b[1;33m]\u001b[0m\u001b[1;33m)\u001b[0m\u001b[1;33m\u001b[0m\u001b[1;33m\u001b[0m\u001b[0m\n\u001b[1;32m----> 6\u001b[1;33m     \u001b[0mprocessed_tweet\u001b[0m \u001b[1;33m=\u001b[0m \u001b[1;34m\" \"\u001b[0m\u001b[1;33m.\u001b[0m\u001b[0mjoin\u001b[0m\u001b[1;33m(\u001b[0m\u001b[0mWord\u001b[0m\u001b[1;33m(\u001b[0m\u001b[0mword\u001b[0m\u001b[1;33m)\u001b[0m\u001b[1;33m.\u001b[0m\u001b[0mlemmatize\u001b[0m\u001b[1;33m(\u001b[0m\u001b[1;33m)\u001b[0m \u001b[1;32mfor\u001b[0m \u001b[0mword\u001b[0m \u001b[1;32min\u001b[0m \u001b[0mprocessed_tweet\u001b[0m\u001b[1;33m.\u001b[0m\u001b[0msplit\u001b[0m\u001b[1;33m(\u001b[0m\u001b[1;33m)\u001b[0m\u001b[1;33m)\u001b[0m\u001b[1;33m\u001b[0m\u001b[1;33m\u001b[0m\u001b[0m\n\u001b[0m\u001b[0;32m      7\u001b[0m     \u001b[1;32mreturn\u001b[0m\u001b[1;33m(\u001b[0m\u001b[0mprocessed_tweet\u001b[0m\u001b[1;33m)\u001b[0m\u001b[1;33m\u001b[0m\u001b[1;33m\u001b[0m\u001b[0m\n\u001b[0;32m      8\u001b[0m \u001b[1;33m\u001b[0m\u001b[0m\n",
      "\u001b[1;32mC:\\Users\\IRANNA~1\\AppData\\Local\\Temp/ipykernel_12048/3148774473.py\u001b[0m in \u001b[0;36m<genexpr>\u001b[1;34m(.0)\u001b[0m\n\u001b[0;32m      4\u001b[0m     \u001b[0mprocessed_tweet\u001b[0m \u001b[1;33m=\u001b[0m \u001b[1;34m\" \"\u001b[0m\u001b[1;33m.\u001b[0m\u001b[0mjoin\u001b[0m\u001b[1;33m(\u001b[0m\u001b[1;33m[\u001b[0m\u001b[0mword\u001b[0m \u001b[1;32mfor\u001b[0m \u001b[0mword\u001b[0m \u001b[1;32min\u001b[0m \u001b[0mprocessed_tweet\u001b[0m\u001b[1;33m.\u001b[0m\u001b[0msplit\u001b[0m\u001b[1;33m(\u001b[0m\u001b[1;33m)\u001b[0m \u001b[1;32mif\u001b[0m \u001b[0mword\u001b[0m \u001b[1;32mnot\u001b[0m \u001b[1;32min\u001b[0m \u001b[0mstop_words\u001b[0m\u001b[1;33m]\u001b[0m\u001b[1;33m)\u001b[0m\u001b[1;33m\u001b[0m\u001b[1;33m\u001b[0m\u001b[0m\n\u001b[0;32m      5\u001b[0m     \u001b[0mprocessed_tweet\u001b[0m \u001b[1;33m=\u001b[0m \u001b[1;34m\" \"\u001b[0m\u001b[1;33m.\u001b[0m\u001b[0mjoin\u001b[0m\u001b[1;33m(\u001b[0m\u001b[1;33m[\u001b[0m\u001b[0mword\u001b[0m \u001b[1;32mfor\u001b[0m \u001b[0mword\u001b[0m \u001b[1;32min\u001b[0m \u001b[0mprocessed_tweet\u001b[0m\u001b[1;33m.\u001b[0m\u001b[0msplit\u001b[0m\u001b[1;33m(\u001b[0m\u001b[1;33m)\u001b[0m \u001b[1;32mif\u001b[0m \u001b[0mword\u001b[0m \u001b[1;32mnot\u001b[0m \u001b[1;32min\u001b[0m \u001b[0mcustom_stopwords\u001b[0m\u001b[1;33m]\u001b[0m\u001b[1;33m)\u001b[0m\u001b[1;33m\u001b[0m\u001b[1;33m\u001b[0m\u001b[0m\n\u001b[1;32m----> 6\u001b[1;33m     \u001b[0mprocessed_tweet\u001b[0m \u001b[1;33m=\u001b[0m \u001b[1;34m\" \"\u001b[0m\u001b[1;33m.\u001b[0m\u001b[0mjoin\u001b[0m\u001b[1;33m(\u001b[0m\u001b[0mWord\u001b[0m\u001b[1;33m(\u001b[0m\u001b[0mword\u001b[0m\u001b[1;33m)\u001b[0m\u001b[1;33m.\u001b[0m\u001b[0mlemmatize\u001b[0m\u001b[1;33m(\u001b[0m\u001b[1;33m)\u001b[0m \u001b[1;32mfor\u001b[0m \u001b[0mword\u001b[0m \u001b[1;32min\u001b[0m \u001b[0mprocessed_tweet\u001b[0m\u001b[1;33m.\u001b[0m\u001b[0msplit\u001b[0m\u001b[1;33m(\u001b[0m\u001b[1;33m)\u001b[0m\u001b[1;33m)\u001b[0m\u001b[1;33m\u001b[0m\u001b[1;33m\u001b[0m\u001b[0m\n\u001b[0m\u001b[0;32m      7\u001b[0m     \u001b[1;32mreturn\u001b[0m\u001b[1;33m(\u001b[0m\u001b[0mprocessed_tweet\u001b[0m\u001b[1;33m)\u001b[0m\u001b[1;33m\u001b[0m\u001b[1;33m\u001b[0m\u001b[0m\n\u001b[0;32m      8\u001b[0m \u001b[1;33m\u001b[0m\u001b[0m\n",
      "\u001b[1;31mNameError\u001b[0m: name 'Word' is not defined"
     ]
    }
   ],
   "source": [
    "def preprocess_tweets(tweet, custom_stopwords):\n",
    "    processed_tweet = tweet\n",
    "    processed_tweet.replace('[^\\w\\s]', '')\n",
    "    processed_tweet = \" \".join([word for word in processed_tweet.split() if word not in stop_words])\n",
    "    processed_tweet = \" \".join([word for word in processed_tweet.split() if word not in custom_stopwords])\n",
    "    processed_tweet = \" \".join(Word(word).lemmatize() for word in processed_tweet.split())\n",
    "    return(processed_tweet)\n",
    "\n",
    "df['Processed Tweet'] = df['Tweet'].apply(lambda x: preprocess_tweets(x, custom_stopwords))\n",
    "df.head()"
   ]
  },
  {
   "cell_type": "code",
   "execution_count": 16,
   "id": "2fe276a7",
   "metadata": {},
   "outputs": [],
   "source": [
    "import nltk\n",
    "from nltk.corpus import stopwords\n",
    "\n",
    "# Import textblob\n",
    "from textblob import Word, TextBlob"
   ]
  },
  {
   "cell_type": "code",
   "execution_count": 17,
   "id": "a1171913",
   "metadata": {},
   "outputs": [
    {
     "name": "stderr",
     "output_type": "stream",
     "text": [
      "[nltk_data] Downloading package stopwords to C:\\Users\\Iranna\n",
      "[nltk_data]     Patil\\AppData\\Roaming\\nltk_data...\n",
      "[nltk_data]   Package stopwords is already up-to-date!\n",
      "[nltk_data] Downloading package wordnet to C:\\Users\\Iranna\n",
      "[nltk_data]     Patil\\AppData\\Roaming\\nltk_data...\n",
      "[nltk_data]   Package wordnet is already up-to-date!\n"
     ]
    }
   ],
   "source": [
    "nltk.download('stopwords')\n",
    "nltk.download('wordnet')\n",
    "stop_words = stopwords.words('english')\n",
    "custom_stopwords = ['RT', '#PresidentialDebate']"
   ]
  },
  {
   "cell_type": "code",
   "execution_count": 18,
   "id": "46298b02",
   "metadata": {},
   "outputs": [
    {
     "data": {
      "text/html": [
       "<div>\n",
       "<style scoped>\n",
       "    .dataframe tbody tr th:only-of-type {\n",
       "        vertical-align: middle;\n",
       "    }\n",
       "\n",
       "    .dataframe tbody tr th {\n",
       "        vertical-align: top;\n",
       "    }\n",
       "\n",
       "    .dataframe thead th {\n",
       "        text-align: right;\n",
       "    }\n",
       "</style>\n",
       "<table border=\"1\" class=\"dataframe\">\n",
       "  <thead>\n",
       "    <tr style=\"text-align: right;\">\n",
       "      <th></th>\n",
       "      <th>Tweet</th>\n",
       "      <th>Timestamp</th>\n",
       "      <th>Trump</th>\n",
       "      <th>Biden</th>\n",
       "      <th>Processed Tweet</th>\n",
       "    </tr>\n",
       "  </thead>\n",
       "  <tbody>\n",
       "    <tr>\n",
       "      <th>0</th>\n",
       "      <td>RT @DwayneFuhlhage: Of course my $0.99 Trump n...</td>\n",
       "      <td>2022-06-05 19:32:16+00:00</td>\n",
       "      <td>1</td>\n",
       "      <td>0</td>\n",
       "      <td>@DwayneFuhlhage: Of course $0.99 Trump necktie...</td>\n",
       "    </tr>\n",
       "    <tr>\n",
       "      <th>1</th>\n",
       "      <td>RT @WSjp_insight: Final(2nd)US🇺🇸#PresidentialD...</td>\n",
       "      <td>2022-06-05 13:56:06+00:00</td>\n",
       "      <td>0</td>\n",
       "      <td>0</td>\n",
       "      <td>@WSjp_insight: Final(2nd)US🇺🇸#PresidentialDeba...</td>\n",
       "    </tr>\n",
       "    <tr>\n",
       "      <th>2</th>\n",
       "      <td>RT @WSjp_insight: 3rd US #PresidentialDebate a...</td>\n",
       "      <td>2022-06-05 13:55:55+00:00</td>\n",
       "      <td>0</td>\n",
       "      <td>0</td>\n",
       "      <td>@WSjp_insight: 3rd US article https://t.co/64d...</td>\n",
       "    </tr>\n",
       "    <tr>\n",
       "      <th>3</th>\n",
       "      <td>RT @WSjp_insight: 1st US #PresidentialDebate 0...</td>\n",
       "      <td>2022-06-05 13:47:06+00:00</td>\n",
       "      <td>1</td>\n",
       "      <td>1</td>\n",
       "      <td>@WSjp_insight: 1st US 09/29/2020 🇺🇸#Debates202...</td>\n",
       "    </tr>\n",
       "    <tr>\n",
       "      <th>4</th>\n",
       "      <td>RT @WSjp_insight: 2nd US #PresidentialDebate a...</td>\n",
       "      <td>2022-06-05 13:46:50+00:00</td>\n",
       "      <td>0</td>\n",
       "      <td>0</td>\n",
       "      <td>@WSjp_insight: 2nd US article https://t.co/3ui...</td>\n",
       "    </tr>\n",
       "  </tbody>\n",
       "</table>\n",
       "</div>"
      ],
      "text/plain": [
       "                                               Tweet  \\\n",
       "0  RT @DwayneFuhlhage: Of course my $0.99 Trump n...   \n",
       "1  RT @WSjp_insight: Final(2nd)US🇺🇸#PresidentialD...   \n",
       "2  RT @WSjp_insight: 3rd US #PresidentialDebate a...   \n",
       "3  RT @WSjp_insight: 1st US #PresidentialDebate 0...   \n",
       "4  RT @WSjp_insight: 2nd US #PresidentialDebate a...   \n",
       "\n",
       "                  Timestamp  Trump  Biden  \\\n",
       "0 2022-06-05 19:32:16+00:00      1      0   \n",
       "1 2022-06-05 13:56:06+00:00      0      0   \n",
       "2 2022-06-05 13:55:55+00:00      0      0   \n",
       "3 2022-06-05 13:47:06+00:00      1      1   \n",
       "4 2022-06-05 13:46:50+00:00      0      0   \n",
       "\n",
       "                                     Processed Tweet  \n",
       "0  @DwayneFuhlhage: Of course $0.99 Trump necktie...  \n",
       "1  @WSjp_insight: Final(2nd)US🇺🇸#PresidentialDeba...  \n",
       "2  @WSjp_insight: 3rd US article https://t.co/64d...  \n",
       "3  @WSjp_insight: 1st US 09/29/2020 🇺🇸#Debates202...  \n",
       "4  @WSjp_insight: 2nd US article https://t.co/3ui...  "
      ]
     },
     "execution_count": 18,
     "metadata": {},
     "output_type": "execute_result"
    }
   ],
   "source": [
    "def preprocess_tweets(tweet, custom_stopwords):\n",
    "    processed_tweet = tweet\n",
    "    processed_tweet.replace('[^\\w\\s]', '')\n",
    "    processed_tweet = \" \".join([word for word in processed_tweet.split() if word not in stop_words])\n",
    "    processed_tweet = \" \".join([word for word in processed_tweet.split() if word not in custom_stopwords])\n",
    "    processed_tweet = \" \".join(Word(word).lemmatize() for word in processed_tweet.split())\n",
    "    return(processed_tweet)\n",
    "\n",
    "df['Processed Tweet'] = df['Tweet'].apply(lambda x: preprocess_tweets(x, custom_stopwords))\n",
    "df.head()"
   ]
  },
  {
   "cell_type": "code",
   "execution_count": 19,
   "id": "b201196e",
   "metadata": {},
   "outputs": [
    {
     "name": "stdout",
     "output_type": "stream",
     "text": [
      "Base review\n",
      " RT @DwayneFuhlhage: Of course my $0.99 Trump necktie was made in China, just like Ivanka's purses and clothing. #PresidentialDebate https:/…\n",
      "\n",
      "------------------------------------\n",
      "\n",
      "Cleaned and lemmatized review\n",
      " @DwayneFuhlhage: Of course $0.99 Trump necktie made China, like Ivanka's purse clothing. https:/…\n"
     ]
    }
   ],
   "source": [
    "print('Base review\\n', df['Tweet'][0])\n",
    "print('\\n------------------------------------\\n')\n",
    "print('Cleaned and lemmatized review\\n', df['Processed Tweet'][0])\n"
   ]
  },
  {
   "cell_type": "code",
   "execution_count": 20,
   "id": "cd5d74e9",
   "metadata": {},
   "outputs": [
    {
     "data": {
      "text/html": [
       "<div>\n",
       "<style scoped>\n",
       "    .dataframe tbody tr th:only-of-type {\n",
       "        vertical-align: middle;\n",
       "    }\n",
       "\n",
       "    .dataframe tbody tr th {\n",
       "        vertical-align: top;\n",
       "    }\n",
       "\n",
       "    .dataframe thead th {\n",
       "        text-align: right;\n",
       "    }\n",
       "</style>\n",
       "<table border=\"1\" class=\"dataframe\">\n",
       "  <thead>\n",
       "    <tr style=\"text-align: right;\">\n",
       "      <th></th>\n",
       "      <th>Processed Tweet</th>\n",
       "      <th>Biden</th>\n",
       "      <th>Trump</th>\n",
       "      <th>polarity</th>\n",
       "      <th>subjectivity</th>\n",
       "    </tr>\n",
       "  </thead>\n",
       "  <tbody>\n",
       "    <tr>\n",
       "      <th>0</th>\n",
       "      <td>@DwayneFuhlhage: Of course $0.99 Trump necktie...</td>\n",
       "      <td>0</td>\n",
       "      <td>1</td>\n",
       "      <td>0.0</td>\n",
       "      <td>0.0</td>\n",
       "    </tr>\n",
       "    <tr>\n",
       "      <th>1</th>\n",
       "      <td>@WSjp_insight: Final(2nd)US🇺🇸#PresidentialDeba...</td>\n",
       "      <td>0</td>\n",
       "      <td>0</td>\n",
       "      <td>0.0</td>\n",
       "      <td>0.0</td>\n",
       "    </tr>\n",
       "    <tr>\n",
       "      <th>2</th>\n",
       "      <td>@WSjp_insight: 3rd US article https://t.co/64d...</td>\n",
       "      <td>0</td>\n",
       "      <td>0</td>\n",
       "      <td>0.0</td>\n",
       "      <td>0.0</td>\n",
       "    </tr>\n",
       "    <tr>\n",
       "      <th>3</th>\n",
       "      <td>@WSjp_insight: 1st US 09/29/2020 🇺🇸#Debates202...</td>\n",
       "      <td>1</td>\n",
       "      <td>1</td>\n",
       "      <td>0.0</td>\n",
       "      <td>0.0</td>\n",
       "    </tr>\n",
       "    <tr>\n",
       "      <th>4</th>\n",
       "      <td>@WSjp_insight: 2nd US article https://t.co/3ui...</td>\n",
       "      <td>0</td>\n",
       "      <td>0</td>\n",
       "      <td>0.0</td>\n",
       "      <td>0.0</td>\n",
       "    </tr>\n",
       "  </tbody>\n",
       "</table>\n",
       "</div>"
      ],
      "text/plain": [
       "                                     Processed Tweet  Biden  Trump  polarity  \\\n",
       "0  @DwayneFuhlhage: Of course $0.99 Trump necktie...      0      1       0.0   \n",
       "1  @WSjp_insight: Final(2nd)US🇺🇸#PresidentialDeba...      0      0       0.0   \n",
       "2  @WSjp_insight: 3rd US article https://t.co/64d...      0      0       0.0   \n",
       "3  @WSjp_insight: 1st US 09/29/2020 🇺🇸#Debates202...      1      1       0.0   \n",
       "4  @WSjp_insight: 2nd US article https://t.co/3ui...      0      0       0.0   \n",
       "\n",
       "   subjectivity  \n",
       "0           0.0  \n",
       "1           0.0  \n",
       "2           0.0  \n",
       "3           0.0  \n",
       "4           0.0  "
      ]
     },
     "execution_count": 20,
     "metadata": {},
     "output_type": "execute_result"
    }
   ],
   "source": [
    "df['polarity'] = df['Processed Tweet'].apply(lambda x: TextBlob(x).sentiment[0])\n",
    "df['subjectivity'] = df['Processed Tweet'].apply(lambda x: TextBlob(x).sentiment[1])\n",
    "df[['Processed Tweet', 'Biden', 'Trump', 'polarity', 'subjectivity']].head()"
   ]
  },
  {
   "cell_type": "code",
   "execution_count": 21,
   "id": "e1665cb6",
   "metadata": {},
   "outputs": [
    {
     "data": {
      "text/html": [
       "<div>\n",
       "<style scoped>\n",
       "    .dataframe tbody tr th:only-of-type {\n",
       "        vertical-align: middle;\n",
       "    }\n",
       "\n",
       "    .dataframe tbody tr th {\n",
       "        vertical-align: top;\n",
       "    }\n",
       "\n",
       "    .dataframe thead tr th {\n",
       "        text-align: left;\n",
       "    }\n",
       "\n",
       "    .dataframe thead tr:last-of-type th {\n",
       "        text-align: right;\n",
       "    }\n",
       "</style>\n",
       "<table border=\"1\" class=\"dataframe\">\n",
       "  <thead>\n",
       "    <tr>\n",
       "      <th></th>\n",
       "      <th colspan=\"4\" halign=\"left\">polarity</th>\n",
       "      <th colspan=\"4\" halign=\"left\">subjectivity</th>\n",
       "    </tr>\n",
       "    <tr>\n",
       "      <th></th>\n",
       "      <th>mean</th>\n",
       "      <th>amax</th>\n",
       "      <th>amin</th>\n",
       "      <th>median</th>\n",
       "      <th>mean</th>\n",
       "      <th>amax</th>\n",
       "      <th>amin</th>\n",
       "      <th>median</th>\n",
       "    </tr>\n",
       "    <tr>\n",
       "      <th>Trump</th>\n",
       "      <th></th>\n",
       "      <th></th>\n",
       "      <th></th>\n",
       "      <th></th>\n",
       "      <th></th>\n",
       "      <th></th>\n",
       "      <th></th>\n",
       "      <th></th>\n",
       "    </tr>\n",
       "  </thead>\n",
       "  <tbody>\n",
       "    <tr>\n",
       "      <th>1</th>\n",
       "      <td>0.0</td>\n",
       "      <td>0.0</td>\n",
       "      <td>0.0</td>\n",
       "      <td>0.0</td>\n",
       "      <td>0.0</td>\n",
       "      <td>0.0</td>\n",
       "      <td>0.0</td>\n",
       "      <td>0.0</td>\n",
       "    </tr>\n",
       "  </tbody>\n",
       "</table>\n",
       "</div>"
      ],
      "text/plain": [
       "      polarity                  subjectivity                 \n",
       "          mean amax amin median         mean amax amin median\n",
       "Trump                                                        \n",
       "1          0.0  0.0  0.0    0.0          0.0  0.0  0.0    0.0"
      ]
     },
     "metadata": {},
     "output_type": "display_data"
    },
    {
     "data": {
      "text/html": [
       "<div>\n",
       "<style scoped>\n",
       "    .dataframe tbody tr th:only-of-type {\n",
       "        vertical-align: middle;\n",
       "    }\n",
       "\n",
       "    .dataframe tbody tr th {\n",
       "        vertical-align: top;\n",
       "    }\n",
       "\n",
       "    .dataframe thead tr th {\n",
       "        text-align: left;\n",
       "    }\n",
       "\n",
       "    .dataframe thead tr:last-of-type th {\n",
       "        text-align: right;\n",
       "    }\n",
       "</style>\n",
       "<table border=\"1\" class=\"dataframe\">\n",
       "  <thead>\n",
       "    <tr>\n",
       "      <th></th>\n",
       "      <th colspan=\"4\" halign=\"left\">polarity</th>\n",
       "      <th colspan=\"4\" halign=\"left\">subjectivity</th>\n",
       "    </tr>\n",
       "    <tr>\n",
       "      <th></th>\n",
       "      <th>mean</th>\n",
       "      <th>amax</th>\n",
       "      <th>amin</th>\n",
       "      <th>median</th>\n",
       "      <th>mean</th>\n",
       "      <th>amax</th>\n",
       "      <th>amin</th>\n",
       "      <th>median</th>\n",
       "    </tr>\n",
       "    <tr>\n",
       "      <th>Biden</th>\n",
       "      <th></th>\n",
       "      <th></th>\n",
       "      <th></th>\n",
       "      <th></th>\n",
       "      <th></th>\n",
       "      <th></th>\n",
       "      <th></th>\n",
       "      <th></th>\n",
       "    </tr>\n",
       "  </thead>\n",
       "  <tbody>\n",
       "    <tr>\n",
       "      <th>1</th>\n",
       "      <td>0.0</td>\n",
       "      <td>0.0</td>\n",
       "      <td>0.0</td>\n",
       "      <td>0.0</td>\n",
       "      <td>0.0</td>\n",
       "      <td>0.0</td>\n",
       "      <td>0.0</td>\n",
       "      <td>0.0</td>\n",
       "    </tr>\n",
       "  </tbody>\n",
       "</table>\n",
       "</div>"
      ],
      "text/plain": [
       "      polarity                  subjectivity                 \n",
       "          mean amax amin median         mean amax amin median\n",
       "Biden                                                        \n",
       "1          0.0  0.0  0.0    0.0          0.0  0.0  0.0    0.0"
      ]
     },
     "execution_count": 21,
     "metadata": {},
     "output_type": "execute_result"
    }
   ],
   "source": [
    "display(df[df['Trump']==1][['Trump','polarity','subjectivity']].groupby('Trump').agg([np.mean, np.max, np.min, np.median]))\n",
    "df[df['Biden']==1][['Biden','polarity','subjectivity']].groupby('Biden').agg([np.mean, np.max, np.min, np.median])"
   ]
  },
  {
   "cell_type": "code",
   "execution_count": 22,
   "id": "5f2a3a06",
   "metadata": {},
   "outputs": [],
   "source": [
    "biden = df[df['Biden']==1][['Timestamp', 'polarity']]\n",
    "biden = biden.sort_values(by='Timestamp', ascending=True)\n",
    "biden['MA Polarity'] = biden.polarity.rolling(10, min_periods=3).mean()\n",
    "\n",
    "trump = df[df['Trump']==1][['Timestamp', 'polarity']]\n",
    "trump = trump.sort_values(by='Timestamp', ascending=True)\n",
    "trump['MA Polarity'] = trump.polarity.rolling(10, min_periods=3).mean()"
   ]
  },
  {
   "cell_type": "code",
   "execution_count": null,
   "id": "55a7cc74",
   "metadata": {},
   "outputs": [],
   "source": []
  },
  {
   "cell_type": "code",
   "execution_count": 23,
   "id": "d1983878",
   "metadata": {},
   "outputs": [
    {
     "data": {
      "image/png": "[encoded data removed]",
      "text/plain": [
       "<Figure size 936x720 with 2 Axes>"
      ]
     },
     "metadata": {
      "needs_background": "light"
     },
     "output_type": "display_data"
    }
   ],
   "source": [
    "repub = 'red'\n",
    "demo = 'blue'\n",
    "fig, axes = plt.subplots(2, 1, figsize=(13, 10))\n",
    "\n",
    "axes[0].plot(biden['Timestamp'], biden['MA Polarity'])\n",
    "axes[0].set_title(\"\\n\".join([\"Biden Polarity\"]))\n",
    "axes[1].plot(trump['Timestamp'], trump['MA Polarity'], color='red')\n",
    "axes[1].set_title(\"\\n\".join([\"Trump Polarity\"]))\n",
    "\n",
    "fig.suptitle(\"\\n\".join([\"Presidential Debate Analysis\"]), y=0.98)\n",
    "\n",
    "plt.show()"
   ]
  },
  {
   "cell_type": "code",
   "execution_count": null,
   "id": "c608a762",
   "metadata": {},
   "outputs": [],
   "source": []
  }
 ],
 "metadata": {
  "kernelspec": {
   "display_name": "Python 3 (ipykernel)",
   "language": "python",
   "name": "python3"
  },
  "language_info": {
   "codemirror_mode": {
    "name": "ipython",
    "version": 3
   },
   "file_extension": ".py",
   "mimetype": "text/x-python",
   "name": "python",
   "nbconvert_exporter": "python",
   "pygments_lexer": "ipython3",
   "version": "3.9.7"
  }
 },
 "nbformat": 4,
 "nbformat_minor": 5
}
